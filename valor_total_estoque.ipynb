{
  "cells": [
    {
      "cell_type": "markdown",
      "metadata": {
        "id": "view-in-github",
        "colab_type": "text"
      },
      "source": [
        "<a href=\"https://colab.research.google.com/github/SarahLisley/Colab-estoque/blob/main/valor_total_estoque.ipynb\" target=\"_parent\"><img src=\"https://colab.research.google.com/assets/colab-badge.svg\" alt=\"Open In Colab\"/></a>"
      ]
    },
    {
      "cell_type": "code",
      "execution_count": 7,
      "metadata": {
        "id": "OslBZlE4DL1n",
        "outputId": "a7fd3257-dfd8-4b89-9244-0bd7d5073bc1",
        "colab": {
          "base_uri": "https://localhost:8080/"
        }
      },
      "outputs": [
        {
          "output_type": "stream",
          "name": "stderr",
          "text": [
            "Downloading...\n",
            "From: https://drive.google.com/uc?id=1b8Q3YUidpckXfZivcpbzRSWJM-JzOGJ0\n",
            "To: /content/estoque.csv\n",
            "100%|██████████| 24.9k/24.9k [00:00<00:00, 17.0MB/s]"
          ]
        },
        {
          "output_type": "stream",
          "name": "stdout",
          "text": [
            "            Produto  Valor_Estoque\n",
            "8    Fone de Ouvido     1136656.38\n",
            "10          Monitor      943618.36\n",
            "18          Shampoo      940249.54\n",
            "13  Papel Higiênico      891702.11\n",
            "19          Teclado      876115.11\n",
            "4       Desodorante      874621.57\n",
            "11            Mouse      867674.57\n",
            "15         Sabonete      849113.83\n",
            "20   Água Sanitária      832433.27\n",
            "5        Detergente      828664.61\n",
            "3      Desinfetante      748190.68\n",
            "16      Sabão em Pó      720774.22\n",
            "0             Arroz      719645.46\n",
            "14   Pasta de Dente      682512.97\n",
            "6           Esponja      674606.56\n",
            "12         Notebook      653612.95\n",
            "7            Feijão      630808.55\n",
            "17              Sal      630364.31\n",
            "1            Açúcar      479149.04\n",
            "2              Café      476571.30\n",
            "9          Macarrão      446597.93\n"
          ]
        },
        {
          "output_type": "stream",
          "name": "stderr",
          "text": [
            "\n"
          ]
        }
      ],
      "source": [
        "import pandas as pd\n",
        "import gdown\n",
        "\n",
        "# Baixar o arquivo do Google Drive usando gdown\n",
        "url = \"https://drive.google.com/uc?id=1b8Q3YUidpckXfZivcpbzRSWJM-JzOGJ0\"\n",
        "output = \"estoque.csv\"\n",
        "gdown.download(url, output, quiet=False)\n",
        "\n",
        "# Ler o arquivo CSV baixado\n",
        "df = pd.read_csv(output)\n",
        "\n",
        "# Criar a nova coluna \"Valor_Estoque\"\n",
        "df['Valor_Estoque'] = df['Quantidade'] * df['Preco_Unitario']\n",
        "\n",
        "# Agrupar os dados por \"Produto\" e somar o valor total de estoque\n",
        "valor_total_por_produto = df.groupby('Produto')['Valor_Estoque'].sum().reset_index()\n",
        "valor_total_por_produto = valor_total_por_produto.sort_values(by='Valor_Estoque', ascending=False)\n",
        "\n",
        "# Exibir resultado\n",
        "print(valor_total_por_produto)"
      ]
    },
    {
      "cell_type": "code",
      "source": [
        "# Filtrar produtos com quantidade menor que 10 unidades\n",
        "produtos_com_pouca_quantidade = df[df[\"Quantidade\"] < 10].copy()\n",
        "\n",
        "# Exibir o DataFrame separado\n",
        "print(produtos_com_pouca_quantidade)\n"
      ],
      "metadata": {
        "colab": {
          "base_uri": "https://localhost:8080/"
        },
        "id": "RRRoYWpwHQE3",
        "outputId": "1ea820c2-0a57-4eaa-d594-93d62cb80856"
      },
      "execution_count": 8,
      "outputs": [
        {
          "output_type": "stream",
          "name": "stdout",
          "text": [
            "    Data_Atualizacao          Produto    Categoria  Quantidade  \\\n",
            "30        08/12/2023         Notebook  Eletrônicos           6   \n",
            "35        02/02/2023            Mouse  Eletrônicos           4   \n",
            "47        21/03/2023  Papel Higiênico      Higiene           3   \n",
            "79        27/03/2023   Água Sanitária      Limpeza           9   \n",
            "102       26/11/2023            Arroz    Alimentos           2   \n",
            "130       24/09/2023      Sabão em Pó      Limpeza           7   \n",
            "143       25/09/2023  Papel Higiênico      Higiene           3   \n",
            "152       03/07/2023          Esponja      Limpeza           9   \n",
            "176       10/11/2023   Fone de Ouvido  Eletrônicos           8   \n",
            "355       01/02/2023           Açúcar    Alimentos           9   \n",
            "405       22/09/2023           Feijão    Alimentos           6   \n",
            "420       28/07/2023       Detergente      Limpeza           1   \n",
            "456       02/05/2023       Detergente      Limpeza           2   \n",
            "463       09/01/2023   Água Sanitária      Limpeza           7   \n",
            "495       24/11/2023      Sabão em Pó      Limpeza           9   \n",
            "524       19/05/2023   Pasta de Dente      Higiene           9   \n",
            "541       12/10/2023   Fone de Ouvido  Eletrônicos           4   \n",
            "586       13/05/2023      Desodorante      Higiene           9   \n",
            "\n",
            "     Preco_Unitario  Valor_Estoque  \n",
            "30            54.61         327.66  \n",
            "35           393.09        1572.36  \n",
            "47           317.44         952.32  \n",
            "79           305.53        2749.77  \n",
            "102          423.23         846.46  \n",
            "130          463.33        3243.31  \n",
            "143          495.82        1487.46  \n",
            "152           93.36         840.24  \n",
            "176           43.73         349.84  \n",
            "355          410.30        3692.70  \n",
            "405          263.43        1580.58  \n",
            "420          324.69         324.69  \n",
            "456           46.39          92.78  \n",
            "463          291.80        2042.60  \n",
            "495          293.84        2644.56  \n",
            "524          165.11        1485.99  \n",
            "541           58.37         233.48  \n",
            "586          391.84        3526.56  \n"
          ]
        }
      ]
    },
    {
      "cell_type": "code",
      "source": [
        "import pandas as pd\n",
        "import gdown\n",
        "\n",
        "# Baixar o arquivo do Google Drive\n",
        "url = \"https://drive.google.com/uc?id=1b8Q3YUidpckXfZivcpbzRSWJM-JzOGJ0\"\n",
        "output = \"estoque.csv\"\n",
        "gdown.download(url, output, quiet=False)\n",
        "\n",
        "# Ler o CSV\n",
        "df = pd.read_csv(output)\n",
        "\n",
        "# Criar a nova coluna \"Valor_Estoque\"\n",
        "df[\"Valor_Estoque\"] = df[\"Quantidade\"] * df[\"Preco_Unitario\"]\n",
        "\n",
        "# 1. Filtrar produtos com quantidade < 10 e salvar como CSV\n",
        "produtos_com_pouca_quantidade = df[df[\"Quantidade\"] < 10]\n",
        "produtos_com_pouca_quantidade.to_csv(\"estoque_baixo.csv\", index=False)\n",
        "\n",
        "# 2. Agrupar valor total por produto e por categoria\n",
        "valor_total = df.groupby([\"Categoria\", \"Produto\"])[\"Valor_Estoque\"].sum().reset_index()\n",
        "\n",
        "# Criar um arquivo Excel com abas por categoria\n",
        "with pd.ExcelWriter(\"valor_total_estoque.xlsx\") as writer:\n",
        "    for categoria, grupo in valor_total.groupby(\"Categoria\"):\n",
        "        grupo.to_excel(writer, sheet_name=categoria, index=False)\n"
      ],
      "metadata": {
        "colab": {
          "base_uri": "https://localhost:8080/"
        },
        "id": "2u0owZ_tHhYp",
        "outputId": "8ec4bba9-0604-4b57-9796-f7a41a594faf"
      },
      "execution_count": 9,
      "outputs": [
        {
          "output_type": "stream",
          "name": "stderr",
          "text": [
            "Downloading...\n",
            "From: https://drive.google.com/uc?id=1b8Q3YUidpckXfZivcpbzRSWJM-JzOGJ0\n",
            "To: /content/estoque.csv\n",
            "100%|██████████| 24.9k/24.9k [00:00<00:00, 39.9MB/s]\n"
          ]
        }
      ]
    }
  ],
  "metadata": {
    "colab": {
      "provenance": [],
      "include_colab_link": true
    },
    "kernelspec": {
      "display_name": "Python 3",
      "language": "python",
      "name": "python3"
    },
    "language_info": {
      "name": "python",
      "version": "3.x"
    }
  },
  "nbformat": 4,
  "nbformat_minor": 0
}